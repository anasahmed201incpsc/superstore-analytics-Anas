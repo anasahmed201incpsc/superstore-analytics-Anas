{
 "cells": [
  {
   "cell_type": "markdown",
   "id": "ea51dd61",
   "metadata": {},
   "source": [
    "# 📊 CPSC 201 – Business Analytics with Superstore Data\n",
    "Welcome to your individual analytics assignment! In this notebook, you'll analyze a retail dataset using **Python, Pandas, and Matplotlib** in Google Colab."
   ]
  },
  {
   "cell_type": "markdown",
   "id": "de9c935d",
   "metadata": {},
   "source": [
    "## 🎯 Objective\n",
    "You will:\n",
    "- Load and clean real-world sales data\n",
    "- Perform business analysis using Python\n",
    "- Create visualizations (charts & tables)\n",
    "- Define and calculate KPIs\n",
    "- Submit your final work via **GitHub**"
   ]
  },
  {
   "cell_type": "markdown",
   "id": "3b891c24",
   "metadata": {},
   "source": [
    "## 📂 Step 1: Upload the Dataset\n",
    "1. Download `Sample - Superstore.csv` from [Kaggle Superstore Dataset](https://www.kaggle.com/datasets/vivek468/superstore-dataset-final)\n",
    "2. Upload it here:"
   ]
  },
  {
   "cell_type": "code",
   "execution_count": null,
   "id": "aaddedd4",
   "metadata": {},
   "outputs": [],
   "source": [
    "from google.colab import files\n",
    "uploaded = files.upload()"
   ]
  },
  {
   "cell_type": "markdown",
   "id": "a393dab7",
   "metadata": {},
   "source": [
    "## 🧼 Step 2: Load & Clean the Data"
   ]
  },
  {
   "cell_type": "code",
   "execution_count": null,
   "id": "530c4646",
   "metadata": {},
   "outputs": [],
   "source": [
    "import pandas as pd\n",
    "\n",
    "# Load CSV file\n",
    "df = pd.read_csv('Sample - Superstore.csv', encoding='ISO-8859-1')\n",
    "df.head()"
   ]
  },
  {
   "cell_type": "code",
   "execution_count": null,
   "id": "c7869a22",
   "metadata": {},
   "outputs": [],
   "source": [
    "# Convert date columns to datetime\n",
    "df['Order Date'] = pd.to_datetime(df['Order Date'])\n",
    "df['Ship Date'] = pd.to_datetime(df['Ship Date'])\n",
    "\n",
    "# Create Profit Margin\n",
    "df['Profit Margin'] = df['Profit'] / df['Sales']\n",
    "\n",
    "# Check missing values\n",
    "df.isnull().sum()"
   ]
  },
  {
   "cell_type": "markdown",
   "id": "e0cfa9b8",
   "metadata": {},
   "source": [
    "## 📊 Step 3: Business Analytics Tasks\n",
    "### 🔹 A. Total Sales by Region"
   ]
  },
  {
   "cell_type": "code",
   "execution_count": null,
   "id": "8d21a722",
   "metadata": {},
   "outputs": [],
   "source": [
    "region_sales = df.groupby('Region')['Sales'].sum().sort_values(ascending=False)\n",
    "region_sales.plot(kind='bar', title='Total Sales by Region')"
   ]
  },
  {
   "cell_type": "markdown",
   "id": "a4934d0a",
   "metadata": {},
   "source": [
    "### 🔹 B. Average Profit Margin by Category"
   ]
  },
  {
   "cell_type": "code",
   "execution_count": null,
   "id": "06211f0a",
   "metadata": {},
   "outputs": [],
   "source": [
    "category_margin = df.groupby('Category')['Profit Margin'].mean()\n",
    "category_margin.plot(kind='bar', title='Avg. Profit Margin by Category')"
   ]
  },
  {
   "cell_type": "markdown",
   "id": "72530880",
   "metadata": {},
   "source": [
    "### 🔹 C. Top 5 Products by Sales"
   ]
  },
  {
   "cell_type": "code",
   "execution_count": null,
   "id": "2f5f11a6",
   "metadata": {},
   "outputs": [],
   "source": [
    "top_products = df.groupby('Product Name')['Sales'].sum().sort_values(ascending=False).head(5)\n",
    "top_products.plot(kind='bar', title='Top 5 Products by Sales')"
   ]
  },
  {
   "cell_type": "markdown",
   "id": "e3960bbf",
   "metadata": {},
   "source": [
    "## 📈 Step 4: Define and Calculate 2 KPIs\n",
    "### ✅ KPI 1: Total Sales and Profit by Region"
   ]
  },
  {
   "cell_type": "code",
   "execution_count": null,
   "id": "9fc9d448",
   "metadata": {},
   "outputs": [],
   "source": [
    "df.groupby('Region')[['Sales', 'Profit']].sum()"
   ]
  },
  {
   "cell_type": "markdown",
   "id": "bd16b1ef",
   "metadata": {},
   "source": [
    "### ✅ KPI 2: Average Delivery Time"
   ]
  },
  {
   "cell_type": "code",
   "execution_count": null,
   "id": "a72131c5",
   "metadata": {},
   "outputs": [],
   "source": [
    "df['Delivery Time (Days)'] = (df['Ship Date'] - df['Order Date']).dt.days\n",
    "df.groupby('Region')['Delivery Time (Days)'].mean()"
   ]
  },
  {
   "cell_type": "markdown",
   "id": "21ba61a9",
   "metadata": {},
   "source": [
    "## 🚀 Step 5: Submit on GitHub\n",
    "1. Go to `File > Download > Download .ipynb`\n",
    "2. Create a GitHub repo named: `superstore-analytics-firstname`\n",
    "3. Upload your `.ipynb` file\n",
    "4. Add a `README.md` with:\n",
    "   - 📌 Project summary\n",
    "   - 📊 2 KPIs\n",
    "   - 🧠 2–3 business insights"
   ]
  },
  {
   "cell_type": "markdown",
   "id": "e4b5ee24",
   "metadata": {},
   "source": [
    "## ✅ Submission Checklist\n",
    "- [ ] Upload dataset and load into Colab\n",
    "- [ ] Complete all tasks (charts + insights)\n",
    "- [ ] Calculate 2 KPIs\n",
    "- [ ] GitHub repo link with `.ipynb` and `README.md`"
   ]
  }
 ],
 "metadata": {},
 "nbformat": 4,
 "nbformat_minor": 5
}
